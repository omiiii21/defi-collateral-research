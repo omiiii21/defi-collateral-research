{
 "cells": [
  {
   "cell_type": "markdown",
   "metadata": {},
   "source": []
  },
  {
   "cell_type": "code",
   "execution_count": 2,
   "metadata": {},
   "outputs": [],
   "source": [
    "from web3 import Web3\n",
    "\n",
    "# Connect to Ethereum node\n",
    "infura_url = 'https://sepolia.infura.io/v3/a77f7fa2b1684b61b8de38395308ae51'\n",
    "w3 = Web3(Web3.HTTPProvider(infura_url))\n",
    "\n",
    "# Check connection\n",
    "if not w3.is_connected():\n",
    "    raise Exception(\"Failed to connect to the Ethereum network\")\n"
   ]
  },
  {
   "cell_type": "code",
   "execution_count": 47,
   "metadata": {},
   "outputs": [],
   "source": [
    "import json\n",
    "with open('defaultcollateralABI.json', 'r') as abi_file:\n",
    "    contract_abi = json.load(abi_file)"
   ]
  },
  {
   "cell_type": "code",
   "execution_count": 52,
   "metadata": {},
   "outputs": [],
   "source": [
    "import json\n",
    "with open('wstETH_defaultcollateral.json', 'r') as abi_file:\n",
    "    contract_abi_wstETH = json.load(abi_file)"
   ]
  },
  {
   "cell_type": "code",
   "execution_count": 54,
   "metadata": {},
   "outputs": [
    {
     "name": "stdout",
     "output_type": "stream",
     "text": [
      "<web3._utils.datatypes.Contract object at 0x0000024E3D350980>\n"
     ]
    }
   ],
   "source": [
    "\n",
    "# Default collateral contract address\n",
    "contract_address = '0xC329400492c6ff2438472D4651Ad17389fCb843a'\n",
    "# contract_abi = contract_abi\n",
    "contract_abi = contract_abi_wstETH\n",
    "\n",
    "\n",
    "# Initialize contract instance\n",
    "contract = w3.eth.contract(address=contract_address, abi=contract_abi)\n",
    "print(contract)"
   ]
  },
  {
   "cell_type": "code",
   "execution_count": 60,
   "metadata": {},
   "outputs": [
    {
     "name": "stdout",
     "output_type": "stream",
     "text": [
      "Contract address: 0xC329400492c6ff2438472D4651Ad17389fCb843a\n",
      "Contract functions: [<Function allowance(address,address)>, <Function approve(address,uint256)>, <Function asset()>, <Function balanceOf(address)>, <Function debt(address,address)>, <Function decimals()>, <Function deposit(address,uint256)>, <Function deposit(address,uint256,uint256,uint8,bytes32,bytes32)>, <Function increaseLimit(uint256)>, <Function initialize(address,uint256,address)>, <Function issueDebt(address,uint256)>, <Function issuerDebt(address)>, <Function issuerRepaidDebt(address)>, <Function limit()>, <Function limitIncreaser()>, <Function name()>, <Function recipientDebt(address)>, <Function recipientRepaidDebt(address)>, <Function repaidDebt(address,address)>, <Function setLimitIncreaser(address)>, <Function symbol()>, <Function totalDebt()>, <Function totalRepaidDebt()>, <Function totalSupply()>, <Function transfer(address,uint256)>, <Function transferFrom(address,address,uint256)>, <Function withdraw(address,uint256)>]\n",
      "Contract events: <web3.contract.contract.ContractEvents object at 0x0000024E3D0D5250>\n",
      "Contract all functions: ['__annotations__', '__class__', '__delattr__', '__dict__', '__dir__', '__doc__', '__eq__', '__format__', '__ge__', '__getattr__', '__getattribute__', '__getitem__', '__getstate__', '__gt__', '__hasattr__', '__hash__', '__init__', '__init_subclass__', '__iter__', '__le__', '__lt__', '__module__', '__ne__', '__new__', '__reduce__', '__reduce_ex__', '__repr__', '__setattr__', '__sizeof__', '__str__', '__subclasshook__', '__weakref__', '_allowance(address,address)', '_approve(address,uint256)', '_asset()', '_balanceOf(address)', '_debt(address,address)', '_decimals()', '_deposit(address,uint256)', '_deposit(address,uint256,uint256,uint8,bytes32,bytes32)', '_functions', '_increaseLimit(uint256)', '_initialize(address,uint256,address)', '_issueDebt(address,uint256)', '_issuerDebt(address)', '_issuerRepaidDebt(address)', '_limit()', '_limitIncreaser()', '_name()', '_recipientDebt(address)', '_recipientRepaidDebt(address)', '_repaidDebt(address,address)', '_setLimitIncreaser(address)', '_symbol()', '_totalDebt()', '_totalRepaidDebt()', '_totalSupply()', '_transfer(address,uint256)', '_transferFrom(address,address,uint256)', '_withdraw(address,uint256)', 'abi', 'address', 'allowance', 'approve', 'asset', 'balanceOf', 'debt', 'decimals', 'deposit', 'increaseLimit', 'initialize', 'issueDebt', 'issuerDebt', 'issuerRepaidDebt', 'limit', 'limitIncreaser', 'name', 'recipientDebt', 'recipientRepaidDebt', 'repaidDebt', 'setLimitIncreaser', 'symbol', 'totalDebt', 'totalRepaidDebt', 'totalSupply', 'transfer', 'transferFrom', 'w3', 'withdraw']\n"
     ]
    }
   ],
   "source": [
    "# Print contract details\n",
    "print(\"Contract address:\", contract.address)\n",
    "print(\"Contract functions:\", [func for func in contract.functions])\n",
    "print(\"Contract events:\", contract.events)\n",
    "print(\"Contract all functions:\", dir(contract.functions))\n",
    "# contract_name = contract.functions.name().call()\n",
    "# print(f\"Token Name: {contract_name}\")\n"
   ]
  },
  {
   "cell_type": "code",
   "execution_count": 56,
   "metadata": {},
   "outputs": [],
   "source": [
    "import json\n",
    "with open('ERC20-DAI.json', 'r') as abi_file:\n",
    "    erc20_contract_abi = json.load(abi_file)"
   ]
  },
  {
   "cell_type": "code",
   "execution_count": 57,
   "metadata": {},
   "outputs": [],
   "source": [
    "import configparser\n",
    "config = configparser.ConfigParser()\n",
    "config.read('config.ini')\n",
    "# User's account\n",
    "user_address = config['Credentials']['Username']\n",
    "private_key = config['Credentials']['PrivateKey']\n",
    "\n",
    "# ERC-20 token details\n",
    "erc20_address = '0x68194a729C2450ad26072b3D33ADaCbcef39D574'\n",
    "erc20_abi = erc20_contract_abi\n",
    "erc20_contract = w3.eth.contract(address=erc20_address, abi=erc20_abi)"
   ]
  },
  {
   "cell_type": "code",
   "execution_count": 62,
   "metadata": {},
   "outputs": [
    {
     "name": "stdout",
     "output_type": "stream",
     "text": [
      "Contract address: 0x68194a729C2450ad26072b3D33ADaCbcef39D574\n",
      "Contract functions: [<Function DOMAIN_SEPARATOR()>, <Function EIP712_REVISION()>, <Function PERMIT_TYPEHASH()>, <Function allowance(address,address)>, <Function approve(address,uint256)>, <Function balanceOf(address)>, <Function decimals()>, <Function decreaseAllowance(address,uint256)>, <Function increaseAllowance(address,uint256)>, <Function mint(uint256)>, <Function mint(address,uint256)>, <Function name()>, <Function nonces(address)>, <Function owner()>, <Function permit(address,address,uint256,uint256,uint8,bytes32,bytes32)>, <Function renounceOwnership()>, <Function symbol()>, <Function totalSupply()>, <Function transfer(address,uint256)>, <Function transferFrom(address,address,uint256)>, <Function transferOwnership(address)>]\n",
      "Contract events: <web3.contract.contract.ContractEvents object at 0x0000024E3D348DA0>\n",
      "Contract all functions: ['DOMAIN_SEPARATOR', 'EIP712_REVISION', 'PERMIT_TYPEHASH', '_DOMAIN_SEPARATOR()', '_EIP712_REVISION()', '_PERMIT_TYPEHASH()', '__annotations__', '__class__', '__delattr__', '__dict__', '__dir__', '__doc__', '__eq__', '__format__', '__ge__', '__getattr__', '__getattribute__', '__getitem__', '__getstate__', '__gt__', '__hasattr__', '__hash__', '__init__', '__init_subclass__', '__iter__', '__le__', '__lt__', '__module__', '__ne__', '__new__', '__reduce__', '__reduce_ex__', '__repr__', '__setattr__', '__sizeof__', '__str__', '__subclasshook__', '__weakref__', '_allowance(address,address)', '_approve(address,uint256)', '_balanceOf(address)', '_decimals()', '_decreaseAllowance(address,uint256)', '_functions', '_increaseAllowance(address,uint256)', '_mint(address,uint256)', '_mint(uint256)', '_name()', '_nonces(address)', '_owner()', '_permit(address,address,uint256,uint256,uint8,bytes32,bytes32)', '_renounceOwnership()', '_symbol()', '_totalSupply()', '_transfer(address,uint256)', '_transferFrom(address,address,uint256)', '_transferOwnership(address)', 'abi', 'address', 'allowance', 'approve', 'balanceOf', 'decimals', 'decreaseAllowance', 'increaseAllowance', 'mint', 'name', 'nonces', 'owner', 'permit', 'renounceOwnership', 'symbol', 'totalSupply', 'transfer', 'transferFrom', 'transferOwnership', 'w3']\n",
      "Token Name: DAI\n"
     ]
    }
   ],
   "source": [
    "# Print contract details\n",
    "print(\"Contract address:\", erc20_contract.address)\n",
    "print(\"Contract functions:\", [func for func in erc20_contract.functions])\n",
    "print(\"Contract events:\", erc20_contract.events)\n",
    "print(\"Contract all functions:\", dir(erc20_contract.functions))\n",
    "token_name = erc20_contract.functions.name().call()\n",
    "print(f\"Token Name: {token_name}\")"
   ]
  },
  {
   "cell_type": "code",
   "execution_count": 112,
   "metadata": {},
   "outputs": [],
   "source": [
    "\n",
    "# Amount to deposit/withdraw (in wei)\n",
    "amount = w3.to_wei(0.01, 'ether')\n",
    "\n",
    "# Approve the DefaultCollateral contract to spend tokens\n",
    "def approve_tokens():\n",
    "    nonce = w3.eth.get_transaction_count(user_address)\n",
    "    tx = erc20_contract.functions.approve(contract_address, amount).build_transaction({\n",
    "        'chainId': 11155111, #for sepolia eth is 1\n",
    "        'gas': 70000,\n",
    "        'gasPrice': w3.to_wei('20', 'gwei'),\n",
    "        'nonce': nonce,\n",
    "    })\n",
    "    signed_tx = w3.eth.account.sign_transaction(tx, private_key=private_key)\n",
    "    tx_hash_approve = w3.eth.send_raw_transaction(signed_tx.raw_transaction)\n",
    "    w3.eth.wait_for_transaction_receipt(tx_hash_approve)\n",
    "    print(f\"Approved {amount} tokens for {contract_address}\")\n",
    "    print(tx_hash_approve.hex())\n",
    "\n",
    "# Deposit tokens into DefaultCollateral\n",
    "def deposit_tokens():\n",
    "    nonce = w3.eth.get_transaction_count(user_address)\n",
    "    tx = contract.functions.deposit(user_address, amount).build_transaction({\n",
    "        'chainId': 11155111,\n",
    "        'gas': 100000,\n",
    "        'gasPrice': w3.to_wei('20', 'gwei'),\n",
    "        'nonce': nonce,\n",
    "    })\n",
    "    signed_tx = w3.eth.account.sign_transaction(tx, private_key=private_key)\n",
    "    tx_hash_deposit = w3.eth.send_raw_transaction(signed_tx.raw_transaction)\n",
    "    deposit_receipt = w3.eth.wait_for_transaction_receipt(tx_hash_deposit)\n",
    "    print(f\"Deposited {amount} tokens. Transaction hash: {tx_hash_deposit.hex()}\")\n",
    "    print(deposit_receipt)\n",
    "\n",
    "# Withdraw tokens from DefaultCollateral\n",
    "def withdraw_tokens():\n",
    "    nonce = w3.eth.get_transaction_count(user_address)\n",
    "    tx = contract.functions.withdraw(user_address, amount).build_transaction({\n",
    "        'chainId': 11155111,\n",
    "        'gas': 100000,\n",
    "        'gasPrice': w3.to_wei('20', 'gwei'),\n",
    "        'nonce': nonce,\n",
    "    })\n",
    "    signed_tx = w3.eth.account.sign_transaction(tx, private_key=private_key)\n",
    "    tx_hash_withdraw = w3.eth.send_raw_transaction(signed_tx.raw_transaction)\n",
    "    withdraw_receipt = w3.eth.wait_for_transaction_receipt(tx_hash_withdraw)\n",
    "    print(f\"Withdrew {amount} tokens. Transaction hash: {tx_hash_withdraw.hex()}\")\n",
    "    print(withdraw_receipt)\n"
   ]
  },
  {
   "cell_type": "code",
   "execution_count": 116,
   "metadata": {},
   "outputs": [
    {
     "name": "stdout",
     "output_type": "stream",
     "text": [
      "Approved 10000000000000000 tokens for 0xC329400492c6ff2438472D4651Ad17389fCb843a\n",
      "5ee95e79831fc4013fcedc48b782cde8c9e29b718b89f41f4cbc06f4763695d2\n"
     ]
    }
   ],
   "source": [
    "approve_tokens()"
   ]
  },
  {
   "cell_type": "code",
   "execution_count": 119,
   "metadata": {},
   "outputs": [
    {
     "name": "stdout",
     "output_type": "stream",
     "text": [
      "Deposited 10000000000000000 tokens. Transaction hash: a5d64db396b3abc43af438b196e93f16f4547327197b8e85dd29e565093eac82\n",
      "AttributeDict({'blockHash': HexBytes('0x6e2fbc67c6c77b94dcedada751710f28246fc0fce79d8ecff888ad5b8c82ed75'), 'blockNumber': 7625633, 'contractAddress': None, 'cumulativeGasUsed': 84620, 'effectiveGasPrice': 20000000000, 'from': '0xa674541764CC1DAc9C10A17EDc9CC2921816140b', 'gasUsed': 21620, 'logs': [], 'logsBloom': HexBytes('0x00000000000000000000000000000000000000000000000000000000000000000000000000000000000000000000000000000000000000000000000000000000000000000000000000000000000000000000000000000000000000000000000000000000000000000000000000000000000000000000000000000000000000000000000000000000000000000000000000000000000000000000000000000000000000000000000000000000000000000000000000000000000000000000000000000000000000000000000000000000000000000000000000000000000000000000000000000000000000000000000000000000000000000000000000000000'), 'status': 1, 'to': '0xC329400492c6ff2438472D4651Ad17389fCb843a', 'transactionHash': HexBytes('0xa5d64db396b3abc43af438b196e93f16f4547327197b8e85dd29e565093eac82'), 'transactionIndex': 3, 'type': 0})\n"
     ]
    }
   ],
   "source": [
    "deposit_tokens()"
   ]
  },
  {
   "cell_type": "code",
   "execution_count": 120,
   "metadata": {},
   "outputs": [
    {
     "name": "stdout",
     "output_type": "stream",
     "text": [
      "Withdrew 10000000000000000 tokens. Transaction hash: c0ad218594d41280a3a61764b38a5ed1bf0c5014580786a30cc07c948288f8b8\n",
      "AttributeDict({'blockHash': HexBytes('0x2b88bb3099c8208aefa7814de47d0ec3ad7cfeb1e62f5d80d9241466c5e8682d'), 'blockNumber': 7625634, 'contractAddress': None, 'cumulativeGasUsed': 147620, 'effectiveGasPrice': 20000000000, 'from': '0xa674541764CC1DAc9C10A17EDc9CC2921816140b', 'gasUsed': 21620, 'logs': [], 'logsBloom': HexBytes('0x00000000000000000000000000000000000000000000000000000000000000000000000000000000000000000000000000000000000000000000000000000000000000000000000000000000000000000000000000000000000000000000000000000000000000000000000000000000000000000000000000000000000000000000000000000000000000000000000000000000000000000000000000000000000000000000000000000000000000000000000000000000000000000000000000000000000000000000000000000000000000000000000000000000000000000000000000000000000000000000000000000000000000000000000000000000'), 'status': 1, 'to': '0xC329400492c6ff2438472D4651Ad17389fCb843a', 'transactionHash': HexBytes('0xc0ad218594d41280a3a61764b38a5ed1bf0c5014580786a30cc07c948288f8b8'), 'transactionIndex': 6, 'type': 0})\n"
     ]
    }
   ],
   "source": [
    "\n",
    "withdraw_tokens()\n"
   ]
  }
 ],
 "metadata": {
  "kernelspec": {
   "display_name": "Python 3",
   "language": "python",
   "name": "python3"
  },
  "language_info": {
   "codemirror_mode": {
    "name": "ipython",
    "version": 3
   },
   "file_extension": ".py",
   "mimetype": "text/x-python",
   "name": "python",
   "nbconvert_exporter": "python",
   "pygments_lexer": "ipython3",
   "version": "3.12.7"
  }
 },
 "nbformat": 4,
 "nbformat_minor": 2
}
